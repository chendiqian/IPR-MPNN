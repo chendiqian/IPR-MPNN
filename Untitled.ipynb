{
 "cells": [
  {
   "cell_type": "code",
   "execution_count": null,
   "id": "388362ab-7eaa-4a2a-9349-dd3499c52456",
   "metadata": {},
   "outputs": [],
   "source": [
    "%load_ext autoreload\n",
    "%autoreload 2"
   ]
  },
  {
   "cell_type": "code",
   "execution_count": null,
   "id": "81514067-f097-4471-91c9-bc788c06d545",
   "metadata": {},
   "outputs": [],
   "source": [
    "import torch\n",
    "import numpy as np"
   ]
  },
  {
   "cell_type": "code",
   "execution_count": null,
   "id": "feea5cea-e343-4b18-8595-b7d966800883",
   "metadata": {},
   "outputs": [],
   "source": []
  },
  {
   "cell_type": "code",
   "execution_count": null,
   "id": "9c077bcd-62b2-48b1-8e40-7261170630fa",
   "metadata": {},
   "outputs": [],
   "source": [
    "from torch_geometric.datasets import ZINC"
   ]
  },
  {
   "cell_type": "code",
   "execution_count": null,
   "id": "a7d9398e-3848-40c4-bd02-029d68e1da68",
   "metadata": {},
   "outputs": [],
   "source": [
    "train_set = ZINC('./datasets/ZINC', split='train', subset=True)\n",
    "# train_set.data.edge_attr = train_set.data.edge_attr[:, None]"
   ]
  },
  {
   "cell_type": "code",
   "execution_count": null,
   "id": "d1bc0502-315c-4062-9390-3d328d7c7d7e",
   "metadata": {},
   "outputs": [],
   "source": [
    "from torch_geometric.utils import is_undirected"
   ]
  },
  {
   "cell_type": "code",
   "execution_count": null,
   "id": "9e4356ea-623a-4ba5-be2f-ae07fd80c0ba",
   "metadata": {},
   "outputs": [],
   "source": []
  },
  {
   "cell_type": "code",
   "execution_count": null,
   "id": "ff4d7d46-f239-4f13-8270-c863d3e58aee",
   "metadata": {},
   "outputs": [],
   "source": []
  },
  {
   "cell_type": "code",
   "execution_count": null,
   "id": "79ae5958-b3b3-4e0e-9f88-de0a55bd88f6",
   "metadata": {},
   "outputs": [],
   "source": [
    "device = torch.device('cuda' if torch.cuda.is_available() else 'cpu')"
   ]
  },
  {
   "cell_type": "code",
   "execution_count": null,
   "id": "62e3e543-a7e1-4777-80e1-bc51a3c4abb6",
   "metadata": {},
   "outputs": [],
   "source": [
    "from torch_geometric.data import Batch"
   ]
  },
  {
   "cell_type": "code",
   "execution_count": null,
   "id": "b48b972c-8aec-428c-b893-53447aa39ad0",
   "metadata": {},
   "outputs": [],
   "source": [
    "data = Batch.from_data_list(train_set[:4]).to(device)"
   ]
  },
  {
   "cell_type": "code",
   "execution_count": null,
   "id": "9e8c9e57-fddc-4e54-84d6-875001f4045b",
   "metadata": {},
   "outputs": [],
   "source": [
    "from models.my_encoders import get_atom_encoder, get_bond_encoder"
   ]
  },
  {
   "cell_type": "code",
   "execution_count": null,
   "id": "ac4dd3f2-f75c-4ac2-b916-9867348943bd",
   "metadata": {},
   "outputs": [],
   "source": [
    "atom_encoder = get_atom_encoder('zinc', 128).to(device)\n",
    "bond_encoder = get_bond_encoder('zinc', 128).to(device)"
   ]
  },
  {
   "cell_type": "code",
   "execution_count": null,
   "id": "bda15151-3e17-4ee4-ac8d-98d2d476e263",
   "metadata": {},
   "outputs": [],
   "source": [
    "x = atom_encoder(data)"
   ]
  },
  {
   "cell_type": "code",
   "execution_count": null,
   "id": "693cb302-dc68-481b-bded-d1e7f662098a",
   "metadata": {},
   "outputs": [],
   "source": [
    "x.shape"
   ]
  },
  {
   "cell_type": "code",
   "execution_count": null,
   "id": "9560157d-972d-4758-a560-78984220d09e",
   "metadata": {},
   "outputs": [],
   "source": []
  },
  {
   "cell_type": "code",
   "execution_count": null,
   "id": "71f17cca-9da3-413f-aa75-d4e59e57e18f",
   "metadata": {},
   "outputs": [],
   "source": [
    "from samplers.simple_scheme import SIMPLESampler\n",
    "\n",
    "sampler = SIMPLESampler(1, device)"
   ]
  },
  {
   "cell_type": "code",
   "execution_count": null,
   "id": "45fd53b3-c73d-41e6-a20f-3917d8186147",
   "metadata": {},
   "outputs": [],
   "source": []
  },
  {
   "cell_type": "code",
   "execution_count": null,
   "id": "7dedb84e-ac90-4bbb-9d80-03f8cd75e7f2",
   "metadata": {},
   "outputs": [],
   "source": [
    "from models.base2centroid import GNNMultiEdgeset"
   ]
  },
  {
   "cell_type": "code",
   "execution_count": null,
   "id": "f15ad4a8-61d8-4a25-aafd-a46b625afe41",
   "metadata": {},
   "outputs": [],
   "source": [
    "model = GNNMultiEdgeset(\n",
    "    'gine',\n",
    "    bond_encoder,\n",
    "    128,\n",
    "                 3,\n",
    "                 3,\n",
    "                 128,\n",
    "                 'graph_norm',\n",
    "                 0.).to(device)"
   ]
  },
  {
   "cell_type": "code",
   "execution_count": null,
   "id": "956685c7-56ab-4207-93b1-11eb97a16ea7",
   "metadata": {},
   "outputs": [],
   "source": [
    "scores = torch.nn.Parameter(torch.rand(data.num_nodes, 3, 2).to(device))"
   ]
  },
  {
   "cell_type": "code",
   "execution_count": null,
   "id": "f291279d-f5ba-408d-af31-a3d123a76655",
   "metadata": {},
   "outputs": [],
   "source": [
    "# get scores and samples\n",
    "node_mask, marginal = sampler(scores)\n",
    "n_samples, nnodes, n_centroids, n_ensemble = node_mask.shape\n",
    "repeats = n_samples * n_ensemble"
   ]
  },
  {
   "cell_type": "code",
   "execution_count": null,
   "id": "0a5a7f26-0711-416f-9710-05ad95d2a052",
   "metadata": {},
   "outputs": [],
   "source": [
    "# add a dimension for multiply broadcasting\n",
    "node_mask = node_mask.permute(0, 3, 2, 1).reshape(repeats, n_centroids, nnodes)[..., None]\n",
    "edge_mask = node_mask[:, :, data.edge_index[0], :] * node_mask[:, :, data.edge_index[1], :]"
   ]
  },
  {
   "cell_type": "code",
   "execution_count": null,
   "id": "8f4b5b5a-5562-4d6f-8ce5-a3b296d469f9",
   "metadata": {},
   "outputs": [],
   "source": [
    "batch = data.batch.repeat(repeats * n_centroids) + \\\n",
    "        torch.arange(repeats * n_centroids, device=device).repeat_interleave(nnodes) * data.num_graphs\n",
    "\n",
    "# repeats, n_centroids, n_graphs, features\n",
    "centroid_x = model(\n",
    "    x.repeat(repeats, n_centroids, 1, 1).reshape(-1, x.shape[-1]), \n",
    "    batch, data.edge_index, data.edge_attr, node_mask, edge_mask)"
   ]
  },
  {
   "cell_type": "code",
   "execution_count": null,
   "id": "ff54d029-b086-4875-9662-fc25ed2bf8bf",
   "metadata": {},
   "outputs": [],
   "source": []
  },
  {
   "cell_type": "code",
   "execution_count": null,
   "id": "69087a66-c43e-42e8-bd31-5852941bcbe2",
   "metadata": {},
   "outputs": [],
   "source": [
    "cumsum_nnodes = data._slice_dict['x'].to(device)\n",
    "nnodes_list = cumsum_nnodes[1:] - cumsum_nnodes[:-1]"
   ]
  },
  {
   "cell_type": "code",
   "execution_count": null,
   "id": "5f00b3de-4cb1-4c28-a3da-1737c084b9a9",
   "metadata": {},
   "outputs": [],
   "source": [
    "# low to high hierarchy\n",
    "src = torch.arange(data.num_nodes * repeats, device=device).repeat_interleave(n_centroids)\n",
    "dst = torch.arange(repeats * data.num_graphs, device=device).repeat_interleave(\n",
    "    nnodes_list.repeat(repeats)) * n_centroids\n",
    "dst = dst[None] + torch.arange(n_centroids, device=device, dtype=torch.long)[:, None]\n",
    "dst = dst.t().reshape(-1)"
   ]
  },
  {
   "cell_type": "code",
   "execution_count": null,
   "id": "f37dff6a-d7fc-43b9-bfcb-617887e2e50f",
   "metadata": {},
   "outputs": [],
   "source": []
  },
  {
   "cell_type": "code",
   "execution_count": null,
   "id": "e3b25431-8ae9-4d88-b518-2285e94c042c",
   "metadata": {},
   "outputs": [],
   "source": [
    "from torch_scatter import scatter_sum\n",
    "from torch_geometric.utils import to_undirected\n",
    "\n",
    "idx = np.hstack([np.vstack(np.triu_indices(n_centroids, k=1)),\n",
    "                 np.vstack(np.diag_indices(n_centroids))])\n",
    "\n",
    "cumsum_nedges = data._slice_dict['edge_index'].to(device)\n",
    "nedges_list = cumsum_nedges[1:] - cumsum_nedges[:-1]\n",
    "intra_num_edges = scatter_sum((node_mask[:, idx[0], :, 0][:, :, data.edge_index[0]] *\n",
    "                         node_mask[:, idx[1], :, 0][:, :, data.edge_index[1]]),\n",
    "                        torch.arange(data.num_graphs, device=device).repeat_interleave(nedges_list), dim=2)\n",
    "intra_num_edges[:, -n_centroids:, :] = intra_num_edges[:, -n_centroids:, :] / 2\n",
    "\n",
    "idx, intra_edge_weights = to_undirected(torch.from_numpy(idx).to(device),\n",
    "                                        intra_num_edges.permute(1, 0, 2),\n",
    "                                        reduce='mean')\n",
    "intra_edge_weights = intra_edge_weights.permute(1, 0, 2) / intra_edge_weights.detach().max()"
   ]
  },
  {
   "cell_type": "code",
   "execution_count": null,
   "id": "796d033b-ea1f-429c-ad82-67f71142395d",
   "metadata": {},
   "outputs": [],
   "source": [
    "from torch_geometric.data import HeteroData\n",
    "\n",
    "new_data = HeteroData(\n",
    "    base={'x': x.repeat(repeats, 1)},\n",
    "    centroid={'x': centroid_x},\n",
    "\n",
    "    base__to__base={'edge_index': data.edge_index.repeat(1, repeats) + \\\n",
    "                                  torch.arange(repeats, device=device).repeat_interleave(data.num_edges) * data.num_nodes,\n",
    "                    'edge_attr': data.edge_attr.repeat(repeats) if data.edge_attr.dim() == 1 else \\\n",
    "                    data.edge_attr.repeat(repeats, 1),\n",
    "                    'edge_weight': None},\n",
    "    base__to__centroid={'edge_index': torch.vstack([src, dst]),\n",
    "                        'edge_attr': None,\n",
    "                        'edge_weight': node_mask.squeeze(-1).permute(0, 2, 1).reshape(-1)},\n",
    "    centroid__to__base={'edge_index': torch.vstack([dst, src]),\n",
    "                        'edge_attr': None,\n",
    "                        'edge_weight': node_mask.squeeze(-1).permute(0, 2, 1).reshape(-1)},\n",
    "    centroid__to__centroid={'edge_index': idx.repeat(1, data.num_graphs * repeats) + \\\n",
    "                                          (torch.arange(data.num_graphs * repeats,\n",
    "                                                        device=device) * n_centroids).repeat_interleave(idx.shape[1]),\n",
    "                            'edge_attr': None,\n",
    "                            'edge_weight': intra_edge_weights.permute(0, 2, 1).reshape(-1)}\n",
    ")"
   ]
  },
  {
   "cell_type": "code",
   "execution_count": null,
   "id": "be50c64f-1b8d-4881-ab1d-72771f341ba3",
   "metadata": {},
   "outputs": [],
   "source": []
  },
  {
   "cell_type": "code",
   "execution_count": null,
   "id": "265809b7-aa37-4d53-83ef-bede3b2510d9",
   "metadata": {},
   "outputs": [],
   "source": [
    "from models.hetero_gnn import HeteroGNN"
   ]
  },
  {
   "cell_type": "code",
   "execution_count": null,
   "id": "8246327a-413e-4f3e-a9cf-321eb30de4d8",
   "metadata": {},
   "outputs": [],
   "source": [
    "gnn = HeteroGNN('gine', True,\n",
    "                 bond_encoder,\n",
    "                 128,\n",
    "                 3,\n",
    "                 3,\n",
    "                 3,\n",
    "                 5,\n",
    "                 0.,\n",
    "                 'batchnorm',\n",
    "                 True).to(device)"
   ]
  },
  {
   "cell_type": "code",
   "execution_count": null,
   "id": "94314f32-ff38-48be-a651-405d0c3b4f6c",
   "metadata": {},
   "outputs": [],
   "source": [
    "gnn(new_data)[0].sum().backward()"
   ]
  },
  {
   "cell_type": "code",
   "execution_count": null,
   "id": "e05d5a79-54f1-4e3f-95bc-35f77ddc5b0e",
   "metadata": {},
   "outputs": [],
   "source": []
  }
 ],
 "metadata": {
  "kernelspec": {
   "display_name": "Python 3 (ipykernel)",
   "language": "python",
   "name": "python3"
  },
  "language_info": {
   "codemirror_mode": {
    "name": "ipython",
    "version": 3
   },
   "file_extension": ".py",
   "mimetype": "text/x-python",
   "name": "python",
   "nbconvert_exporter": "python",
   "pygments_lexer": "ipython3",
   "version": "3.10.13"
  }
 },
 "nbformat": 4,
 "nbformat_minor": 5
}

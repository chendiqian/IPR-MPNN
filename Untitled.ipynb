{
 "cells": [
  {
   "cell_type": "code",
   "execution_count": 1,
   "id": "388362ab-7eaa-4a2a-9349-dd3499c52456",
   "metadata": {},
   "outputs": [],
   "source": [
    "%load_ext autoreload\n",
    "%autoreload 2"
   ]
  },
  {
   "cell_type": "code",
   "execution_count": 2,
   "id": "81514067-f097-4471-91c9-bc788c06d545",
   "metadata": {},
   "outputs": [],
   "source": [
    "import torch\n",
    "import numpy as np"
   ]
  },
  {
   "cell_type": "code",
   "execution_count": null,
   "id": "feea5cea-e343-4b18-8595-b7d966800883",
   "metadata": {},
   "outputs": [],
   "source": []
  },
  {
   "cell_type": "code",
   "execution_count": 3,
   "id": "9c077bcd-62b2-48b1-8e40-7261170630fa",
   "metadata": {},
   "outputs": [],
   "source": [
    "from torch_geometric.datasets import ZINC"
   ]
  },
  {
   "cell_type": "code",
   "execution_count": 4,
   "id": "a7d9398e-3848-40c4-bd02-029d68e1da68",
   "metadata": {},
   "outputs": [],
   "source": [
    "train_set = ZINC('./datasets/ZINC', split='train', subset=True)\n",
    "# train_set.data.edge_attr = train_set.data.edge_attr[:, None]"
   ]
  },
  {
   "cell_type": "code",
   "execution_count": null,
   "id": "9e4356ea-623a-4ba5-be2f-ae07fd80c0ba",
   "metadata": {},
   "outputs": [],
   "source": []
  },
  {
   "cell_type": "code",
   "execution_count": null,
   "id": "ff4d7d46-f239-4f13-8270-c863d3e58aee",
   "metadata": {},
   "outputs": [],
   "source": []
  },
  {
   "cell_type": "code",
   "execution_count": 6,
   "id": "79ae5958-b3b3-4e0e-9f88-de0a55bd88f6",
   "metadata": {},
   "outputs": [],
   "source": [
    "device = torch.device('cuda' if torch.cuda.is_available() else 'cpu')"
   ]
  },
  {
   "cell_type": "code",
   "execution_count": 7,
   "id": "62e3e543-a7e1-4777-80e1-bc51a3c4abb6",
   "metadata": {},
   "outputs": [],
   "source": [
    "from torch_geometric.data import Batch"
   ]
  },
  {
   "cell_type": "code",
   "execution_count": 8,
   "id": "b48b972c-8aec-428c-b893-53447aa39ad0",
   "metadata": {},
   "outputs": [],
   "source": [
    "data = Batch.from_data_list(train_set[:4]).to(device)"
   ]
  },
  {
   "cell_type": "code",
   "execution_count": 9,
   "id": "9e8c9e57-fddc-4e54-84d6-875001f4045b",
   "metadata": {},
   "outputs": [],
   "source": [
    "from models.my_encoders import get_atom_encoder, get_bond_encoder"
   ]
  },
  {
   "cell_type": "code",
   "execution_count": 10,
   "id": "ac4dd3f2-f75c-4ac2-b916-9867348943bd",
   "metadata": {},
   "outputs": [],
   "source": [
    "atom_encoder = get_atom_encoder('zinc', 128).to(device)\n",
    "bond_encoder = get_bond_encoder('zinc', 128).to(device)"
   ]
  },
  {
   "cell_type": "code",
   "execution_count": 11,
   "id": "bda15151-3e17-4ee4-ac8d-98d2d476e263",
   "metadata": {},
   "outputs": [],
   "source": [
    "x = atom_encoder(data)"
   ]
  },
  {
   "cell_type": "code",
   "execution_count": 12,
   "id": "693cb302-dc68-481b-bded-d1e7f662098a",
   "metadata": {},
   "outputs": [
    {
     "data": {
      "text/plain": [
       "torch.Size([98, 128])"
      ]
     },
     "execution_count": 12,
     "metadata": {},
     "output_type": "execute_result"
    }
   ],
   "source": [
    "x.shape"
   ]
  },
  {
   "cell_type": "code",
   "execution_count": null,
   "id": "9560157d-972d-4758-a560-78984220d09e",
   "metadata": {},
   "outputs": [],
   "source": []
  },
  {
   "cell_type": "code",
   "execution_count": 13,
   "id": "71f17cca-9da3-413f-aa75-d4e59e57e18f",
   "metadata": {},
   "outputs": [],
   "source": [
    "from samplers.simple_scheme import SIMPLESampler\n",
    "\n",
    "sampler = SIMPLESampler(1, device)"
   ]
  },
  {
   "cell_type": "code",
   "execution_count": null,
   "id": "45fd53b3-c73d-41e6-a20f-3917d8186147",
   "metadata": {},
   "outputs": [],
   "source": []
  },
  {
   "cell_type": "code",
   "execution_count": 14,
   "id": "7dedb84e-ac90-4bbb-9d80-03f8cd75e7f2",
   "metadata": {},
   "outputs": [],
   "source": [
    "from models.base2centroid import GNNMultiEdgeset"
   ]
  },
  {
   "cell_type": "code",
   "execution_count": 16,
   "id": "f15ad4a8-61d8-4a25-aafd-a46b625afe41",
   "metadata": {},
   "outputs": [],
   "source": [
    "model = GNNMultiEdgeset(\n",
    "    'gine',\n",
    "    bond_encoder,\n",
    "    128,\n",
    "     3,\n",
    "     3,\n",
    "     128,\n",
    "     'graph_norm',\n",
    "    'gelu',\n",
    "     0.).to(device)"
   ]
  },
  {
   "cell_type": "code",
   "execution_count": null,
   "id": "139f888f-4e81-49b4-a9dc-f3c8e8f84c9c",
   "metadata": {},
   "outputs": [],
   "source": []
  },
  {
   "cell_type": "code",
   "execution_count": 17,
   "id": "956685c7-56ab-4207-93b1-11eb97a16ea7",
   "metadata": {},
   "outputs": [],
   "source": [
    "scores = torch.nn.Parameter(torch.rand(data.num_nodes, 3, 2).to(device))"
   ]
  },
  {
   "cell_type": "code",
   "execution_count": 18,
   "id": "f291279d-f5ba-408d-af31-a3d123a76655",
   "metadata": {},
   "outputs": [
    {
     "name": "stdout",
     "output_type": "stream",
     "text": [
      "4C1 done\n"
     ]
    }
   ],
   "source": [
    "# get scores and samples\n",
    "node_mask, marginal = sampler(scores)\n",
    "n_samples, nnodes, n_centroids, n_ensemble = node_mask.shape\n",
    "repeats = n_samples * n_ensemble"
   ]
  },
  {
   "cell_type": "code",
   "execution_count": 19,
   "id": "0a5a7f26-0711-416f-9710-05ad95d2a052",
   "metadata": {},
   "outputs": [],
   "source": [
    "# add a dimension for multiply broadcasting\n",
    "node_mask = node_mask.permute(0, 3, 2, 1).reshape(repeats, n_centroids, nnodes)[..., None]\n",
    "edge_mask = node_mask[:, :, data.edge_index[0], :] * node_mask[:, :, data.edge_index[1], :]"
   ]
  },
  {
   "cell_type": "code",
   "execution_count": null,
   "id": "20c4fc3a-818a-4e22-91fe-55b3307374d1",
   "metadata": {},
   "outputs": [],
   "source": []
  },
  {
   "cell_type": "code",
   "execution_count": 20,
   "id": "4d0d3a86-4e61-4cf4-8d0c-3e6b5b45e80b",
   "metadata": {},
   "outputs": [
    {
     "data": {
      "text/plain": [
       "torch.Size([2, 3, 98, 1])"
      ]
     },
     "execution_count": 20,
     "metadata": {},
     "output_type": "execute_result"
    }
   ],
   "source": [
    "node_mask.shape"
   ]
  },
  {
   "cell_type": "code",
   "execution_count": 21,
   "id": "d12f451b-8ea7-4266-ae0d-2f02bdbca655",
   "metadata": {},
   "outputs": [
    {
     "data": {
      "text/plain": [
       "torch.Size([2, 3, 214, 1])"
      ]
     },
     "execution_count": 21,
     "metadata": {},
     "output_type": "execute_result"
    }
   ],
   "source": [
    "edge_mask.shape"
   ]
  },
  {
   "cell_type": "code",
   "execution_count": 22,
   "id": "0b2930a1-f1ca-48da-846c-4ebcdf57ea1f",
   "metadata": {},
   "outputs": [
    {
     "data": {
      "text/plain": [
       "torch.Size([2, 214])"
      ]
     },
     "execution_count": 22,
     "metadata": {},
     "output_type": "execute_result"
    }
   ],
   "source": [
    "data.edge_index.shape"
   ]
  },
  {
   "cell_type": "code",
   "execution_count": 30,
   "id": "6cfc7ac1-dc00-4919-9edb-2f391565ba34",
   "metadata": {},
   "outputs": [],
   "source": [
    "nnz = edge_mask.squeeze(-1).nonzero()"
   ]
  },
  {
   "cell_type": "code",
   "execution_count": 31,
   "id": "71deca83-90a3-47bb-ac5f-990c68c93e84",
   "metadata": {},
   "outputs": [],
   "source": [
    "nnz = (nnz[:, 2] + nnz[:, 1] * 214) + nnz[:, 0] * 214 * 3"
   ]
  },
  {
   "cell_type": "code",
   "execution_count": 32,
   "id": "7968f257-356c-4087-bc92-e8eb6d82c9f5",
   "metadata": {},
   "outputs": [
    {
     "data": {
      "text/plain": [
       "tensor([   9,   10,   44,   52,   53,   54,  100,  101,  122,  123,  124,  125,\n",
       "         126,  141,  142,  144,  160,  162,  175,  177,  244,  245,  307,  308,\n",
       "         309,  310,  312,  321,  331,  333,  368,  369,  371,  383,  384,  396,\n",
       "         397,  426,  430,  431,  450,  452,  462,  464,  465,  468,  495,  497,\n",
       "         498,  499,  500,  501,  502,  503,  504,  516,  517,  519,  537,  541,\n",
       "         574,  575,  614,  615,  616,  630,  632,  638,  642,  643,  676,  677,\n",
       "         678,  680,  681,  683,  684,  690,  692,  697,  759,  761,  780,  782,\n",
       "         802,  804,  806,  820,  826,  827,  865,  866,  867,  868,  869,  879,\n",
       "         884,  908,  910,  913,  915,  916,  933,  934,  936,  938,  988,  989,\n",
       "        1004, 1005, 1006, 1007, 1008, 1009, 1010, 1011, 1047, 1048, 1049, 1050,\n",
       "        1051, 1052, 1055, 1059, 1100, 1101, 1143, 1144, 1160, 1161, 1162, 1179,\n",
       "        1180, 1182, 1192, 1193, 1194, 1211, 1243, 1244, 1278, 1281],\n",
       "       device='cuda:0')"
      ]
     },
     "execution_count": 32,
     "metadata": {},
     "output_type": "execute_result"
    }
   ],
   "source": [
    "nnz"
   ]
  },
  {
   "cell_type": "code",
   "execution_count": 45,
   "id": "36dab50c-dfad-4074-ae57-0bf5d49f4c53",
   "metadata": {},
   "outputs": [],
   "source": [
    "new_edge_index = data.edge_index.repeat(1, repeats * n_centroids) + \\\n",
    "torch.arange(repeats * n_centroids, device=device).repeat_interleave(data.num_edges) * data.num_nodes"
   ]
  },
  {
   "cell_type": "code",
   "execution_count": 50,
   "id": "34e4106d-5e3e-481d-a6fd-408bd87f7a2e",
   "metadata": {},
   "outputs": [
    {
     "data": {
      "text/plain": [
       "tensor([[  4,   5,  19,  23,  24,  24,  45,  46,  56,  56,  57,  57,  58,  65,\n",
       "          65,  66,  73,  75,  80,  81, 111, 112, 140, 140, 141, 142, 142, 147,\n",
       "         151, 152, 169, 170, 170, 175, 176, 181, 182, 195, 197, 198, 206, 207,\n",
       "         211, 212, 212, 213, 226, 228, 228, 228, 229, 229, 230, 230, 231, 236,\n",
       "         237, 237, 246, 248, 263, 264, 281, 281, 282, 288, 289, 292, 294, 295,\n",
       "         309, 309, 310, 310, 310, 312, 313, 315, 316, 319, 347, 348, 357, 358,\n",
       "         367, 369, 369, 376, 378, 379, 396, 397, 397, 397, 398, 402, 404, 415,\n",
       "         416, 418, 419, 419, 427, 428, 428, 430, 452, 453, 460, 460, 461, 461,\n",
       "         462, 462, 463, 464, 479, 479, 480, 480, 480, 481, 483, 485, 503, 504,\n",
       "         523, 524, 531, 531, 532, 540, 540, 541, 546, 546, 547, 555, 569, 570,\n",
       "         584, 586],\n",
       "        [  5,   4,  24,  24,  19,  23,  46,  45,  57,  65,  56,  58,  57,  56,\n",
       "          66,  65,  75,  73,  81,  80, 112, 111, 141, 142, 140, 140, 147, 142,\n",
       "         152, 151, 170, 169, 195, 176, 175, 182, 181, 170, 198, 197, 207, 206,\n",
       "         212, 211, 213, 212, 228, 226, 229, 248, 228, 230, 229, 231, 230, 237,\n",
       "         236, 246, 237, 228, 264, 263, 282, 292, 281, 289, 288, 281, 295, 294,\n",
       "         310, 319, 309, 312, 313, 310, 310, 316, 315, 309, 348, 347, 358, 357,\n",
       "         369, 367, 376, 369, 379, 378, 397, 396, 398, 419, 397, 419, 418, 416,\n",
       "         415, 404, 397, 402, 428, 427, 430, 428, 453, 452, 461, 462, 460, 462,\n",
       "         460, 461, 464, 463, 480, 485, 479, 481, 483, 480, 480, 479, 504, 503,\n",
       "         524, 523, 532, 540, 531, 531, 541, 540, 547, 555, 546, 546, 570, 569,\n",
       "         586, 584]], device='cuda:0')"
      ]
     },
     "execution_count": 50,
     "metadata": {},
     "output_type": "execute_result"
    }
   ],
   "source": [
    "new_edge_index[:, nnz_weights]"
   ]
  },
  {
   "cell_type": "code",
   "execution_count": null,
   "id": "04283b17-713e-47cb-a7ab-e4879ed9ca5c",
   "metadata": {},
   "outputs": [],
   "source": []
  },
  {
   "cell_type": "code",
   "execution_count": null,
   "id": "168a8999-c84f-4c6a-974f-1a97862fea74",
   "metadata": {},
   "outputs": [],
   "source": []
  },
  {
   "cell_type": "code",
   "execution_count": null,
   "id": "2bbe0696-b985-4b0a-a086-cf35d4510753",
   "metadata": {},
   "outputs": [],
   "source": []
  },
  {
   "cell_type": "code",
   "execution_count": 49,
   "id": "39405db6-0fbd-416b-990b-00f33ad9e36a",
   "metadata": {},
   "outputs": [],
   "source": [
    "nnz_weights = edge_mask.reshape(-1).nonzero().squeeze()"
   ]
  },
  {
   "cell_type": "code",
   "execution_count": null,
   "id": "714ee269-4680-4b88-abe7-e6dfcfc2ca13",
   "metadata": {},
   "outputs": [],
   "source": [
    "edge_mask"
   ]
  },
  {
   "cell_type": "code",
   "execution_count": null,
   "id": "7cd79d43-731b-4714-ae7a-0a703b4225d1",
   "metadata": {},
   "outputs": [],
   "source": []
  },
  {
   "cell_type": "code",
   "execution_count": null,
   "id": "5269ad29-95de-4ded-af59-b41b01d6025b",
   "metadata": {},
   "outputs": [],
   "source": []
  },
  {
   "cell_type": "code",
   "execution_count": null,
   "id": "1306181e-995e-4b41-bf36-c6a99cd5c2df",
   "metadata": {},
   "outputs": [],
   "source": []
  },
  {
   "cell_type": "code",
   "execution_count": null,
   "id": "8f4b5b5a-5562-4d6f-8ce5-a3b296d469f9",
   "metadata": {},
   "outputs": [],
   "source": [
    "batch = data.batch.repeat(repeats * n_centroids) + \\\n",
    "        torch.arange(repeats * n_centroids, device=device).repeat_interleave(nnodes) * data.num_graphs\n",
    "\n",
    "# repeats, n_centroids, n_graphs, features\n",
    "centroid_x = model(\n",
    "    x.repeat(repeats, n_centroids, 1, 1).reshape(-1, x.shape[-1]), \n",
    "    batch, data.edge_index, data.edge_attr, node_mask, edge_mask)"
   ]
  },
  {
   "cell_type": "code",
   "execution_count": null,
   "id": "ff54d029-b086-4875-9662-fc25ed2bf8bf",
   "metadata": {},
   "outputs": [],
   "source": []
  },
  {
   "cell_type": "code",
   "execution_count": null,
   "id": "69087a66-c43e-42e8-bd31-5852941bcbe2",
   "metadata": {},
   "outputs": [],
   "source": [
    "cumsum_nnodes = data._slice_dict['x'].to(device)\n",
    "nnodes_list = cumsum_nnodes[1:] - cumsum_nnodes[:-1]"
   ]
  },
  {
   "cell_type": "code",
   "execution_count": null,
   "id": "5f00b3de-4cb1-4c28-a3da-1737c084b9a9",
   "metadata": {},
   "outputs": [],
   "source": [
    "# low to high hierarchy\n",
    "src = torch.arange(data.num_nodes * repeats, device=device).repeat_interleave(n_centroids)\n",
    "dst = torch.arange(repeats * data.num_graphs, device=device).repeat_interleave(\n",
    "    nnodes_list.repeat(repeats)) * n_centroids\n",
    "dst = dst[None] + torch.arange(n_centroids, device=device, dtype=torch.long)[:, None]\n",
    "dst = dst.t().reshape(-1)"
   ]
  },
  {
   "cell_type": "code",
   "execution_count": null,
   "id": "f37dff6a-d7fc-43b9-bfcb-617887e2e50f",
   "metadata": {},
   "outputs": [],
   "source": []
  },
  {
   "cell_type": "code",
   "execution_count": null,
   "id": "e3b25431-8ae9-4d88-b518-2285e94c042c",
   "metadata": {},
   "outputs": [],
   "source": [
    "from torch_scatter import scatter_sum\n",
    "from torch_geometric.utils import to_undirected\n",
    "\n",
    "idx = np.hstack([np.vstack(np.triu_indices(n_centroids, k=1)),\n",
    "                 np.vstack(np.diag_indices(n_centroids))])\n",
    "\n",
    "cumsum_nedges = data._slice_dict['edge_index'].to(device)\n",
    "nedges_list = cumsum_nedges[1:] - cumsum_nedges[:-1]\n",
    "intra_num_edges = scatter_sum((node_mask[:, idx[0], :, 0][:, :, data.edge_index[0]] *\n",
    "                         node_mask[:, idx[1], :, 0][:, :, data.edge_index[1]]),\n",
    "                        torch.arange(data.num_graphs, device=device).repeat_interleave(nedges_list), dim=2)\n",
    "intra_num_edges[:, -n_centroids:, :] = intra_num_edges[:, -n_centroids:, :] / 2\n",
    "\n",
    "idx, intra_edge_weights = to_undirected(torch.from_numpy(idx).to(device),\n",
    "                                        intra_num_edges.permute(1, 0, 2),\n",
    "                                        reduce='mean')\n",
    "intra_edge_weights = intra_edge_weights.permute(1, 0, 2) / intra_edge_weights.detach().max()"
   ]
  },
  {
   "cell_type": "code",
   "execution_count": null,
   "id": "796d033b-ea1f-429c-ad82-67f71142395d",
   "metadata": {},
   "outputs": [],
   "source": [
    "from torch_geometric.data import HeteroData\n",
    "\n",
    "new_data = HeteroData(\n",
    "    base={'x': x.repeat(repeats, 1)},\n",
    "    centroid={'x': centroid_x},\n",
    "\n",
    "    base__to__base={'edge_index': data.edge_index.repeat(1, repeats) + \\\n",
    "                                  torch.arange(repeats, device=device).repeat_interleave(data.num_edges) * data.num_nodes,\n",
    "                    'edge_attr': data.edge_attr.repeat(repeats) if data.edge_attr.dim() == 1 else \\\n",
    "                    data.edge_attr.repeat(repeats, 1),\n",
    "                    'edge_weight': None},\n",
    "    base__to__centroid={'edge_index': torch.vstack([src, dst]),\n",
    "                        'edge_attr': None,\n",
    "                        'edge_weight': node_mask.squeeze(-1).permute(0, 2, 1).reshape(-1)},\n",
    "    centroid__to__base={'edge_index': torch.vstack([dst, src]),\n",
    "                        'edge_attr': None,\n",
    "                        'edge_weight': node_mask.squeeze(-1).permute(0, 2, 1).reshape(-1)},\n",
    "    centroid__to__centroid={'edge_index': idx.repeat(1, data.num_graphs * repeats) + \\\n",
    "                                          (torch.arange(data.num_graphs * repeats,\n",
    "                                                        device=device) * n_centroids).repeat_interleave(idx.shape[1]),\n",
    "                            'edge_attr': None,\n",
    "                            'edge_weight': intra_edge_weights.permute(0, 2, 1).reshape(-1)}\n",
    ")"
   ]
  },
  {
   "cell_type": "code",
   "execution_count": null,
   "id": "be50c64f-1b8d-4881-ab1d-72771f341ba3",
   "metadata": {},
   "outputs": [],
   "source": []
  },
  {
   "cell_type": "code",
   "execution_count": null,
   "id": "265809b7-aa37-4d53-83ef-bede3b2510d9",
   "metadata": {},
   "outputs": [],
   "source": [
    "from models.hetero_gnn import HeteroGNN"
   ]
  },
  {
   "cell_type": "code",
   "execution_count": null,
   "id": "8246327a-413e-4f3e-a9cf-321eb30de4d8",
   "metadata": {},
   "outputs": [],
   "source": [
    "gnn = HeteroGNN('gine', True,\n",
    "                 bond_encoder,\n",
    "                 128,\n",
    "                 3,\n",
    "                 3,\n",
    "                 3,\n",
    "                 5,\n",
    "                 0.,\n",
    "                 'batchnorm',\n",
    "                 True).to(device)"
   ]
  },
  {
   "cell_type": "code",
   "execution_count": null,
   "id": "94314f32-ff38-48be-a651-405d0c3b4f6c",
   "metadata": {},
   "outputs": [],
   "source": [
    "gnn(new_data)[0].sum().backward()"
   ]
  },
  {
   "cell_type": "code",
   "execution_count": null,
   "id": "e05d5a79-54f1-4e3f-95bc-35f77ddc5b0e",
   "metadata": {},
   "outputs": [],
   "source": []
  }
 ],
 "metadata": {
  "kernelspec": {
   "display_name": "Python 3 (ipykernel)",
   "language": "python",
   "name": "python3"
  },
  "language_info": {
   "codemirror_mode": {
    "name": "ipython",
    "version": 3
   },
   "file_extension": ".py",
   "mimetype": "text/x-python",
   "name": "python",
   "nbconvert_exporter": "python",
   "pygments_lexer": "ipython3",
   "version": "3.10.13"
  }
 },
 "nbformat": 4,
 "nbformat_minor": 5
}

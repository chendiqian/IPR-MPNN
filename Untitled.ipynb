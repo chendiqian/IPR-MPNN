{
 "cells": [
  {
   "cell_type": "code",
   "execution_count": 1,
   "id": "388362ab-7eaa-4a2a-9349-dd3499c52456",
   "metadata": {},
   "outputs": [],
   "source": [
    "%load_ext autoreload\n",
    "%autoreload 2"
   ]
  },
  {
   "cell_type": "code",
   "execution_count": 2,
   "id": "81514067-f097-4471-91c9-bc788c06d545",
   "metadata": {},
   "outputs": [],
   "source": [
    "import torch\n",
    "import numpy as np"
   ]
  },
  {
   "cell_type": "code",
   "execution_count": null,
   "id": "feea5cea-e343-4b18-8595-b7d966800883",
   "metadata": {},
   "outputs": [],
   "source": []
  },
  {
   "cell_type": "code",
   "execution_count": 3,
   "id": "9c077bcd-62b2-48b1-8e40-7261170630fa",
   "metadata": {},
   "outputs": [],
   "source": [
    "from torch_geometric.datasets import ZINC"
   ]
  },
  {
   "cell_type": "code",
   "execution_count": 4,
   "id": "a7d9398e-3848-40c4-bd02-029d68e1da68",
   "metadata": {},
   "outputs": [],
   "source": [
    "train_set = ZINC('./datasets/ZINC', split='train', subset=True)"
   ]
  },
  {
   "cell_type": "code",
   "execution_count": null,
   "id": "ff4d7d46-f239-4f13-8270-c863d3e58aee",
   "metadata": {},
   "outputs": [],
   "source": []
  },
  {
   "cell_type": "code",
   "execution_count": 5,
   "id": "79ae5958-b3b3-4e0e-9f88-de0a55bd88f6",
   "metadata": {},
   "outputs": [],
   "source": [
    "device = torch.device('cuda' if torch.cuda.is_available() else 'cpu')"
   ]
  },
  {
   "cell_type": "code",
   "execution_count": 6,
   "id": "62e3e543-a7e1-4777-80e1-bc51a3c4abb6",
   "metadata": {},
   "outputs": [],
   "source": [
    "from torch_geometric.data import Batch"
   ]
  },
  {
   "cell_type": "code",
   "execution_count": 149,
   "id": "b48b972c-8aec-428c-b893-53447aa39ad0",
   "metadata": {},
   "outputs": [],
   "source": [
    "b = Batch.from_data_list(train_set[:4]).to(device)"
   ]
  },
  {
   "cell_type": "code",
   "execution_count": 150,
   "id": "9e8c9e57-fddc-4e54-84d6-875001f4045b",
   "metadata": {},
   "outputs": [],
   "source": [
    "from models.my_encoders import get_atom_encoder, get_bond_encoder"
   ]
  },
  {
   "cell_type": "code",
   "execution_count": 151,
   "id": "ac4dd3f2-f75c-4ac2-b916-9867348943bd",
   "metadata": {},
   "outputs": [],
   "source": [
    "atom_encoder = get_atom_encoder('zinc', 128).to(device)\n",
    "bond_encoder = get_bond_encoder('zinc', 128).to(device)"
   ]
  },
  {
   "cell_type": "code",
   "execution_count": 152,
   "id": "bda15151-3e17-4ee4-ac8d-98d2d476e263",
   "metadata": {},
   "outputs": [],
   "source": [
    "b.x = atom_encoder(b)"
   ]
  },
  {
   "cell_type": "code",
   "execution_count": null,
   "id": "acf24d75-877a-4126-a736-bdf260d0ecdc",
   "metadata": {},
   "outputs": [],
   "source": []
  },
  {
   "cell_type": "code",
   "execution_count": null,
   "id": "f5acfad3-14c8-47d1-8f32-25a319e4c2fd",
   "metadata": {},
   "outputs": [],
   "source": []
  },
  {
   "cell_type": "code",
   "execution_count": 153,
   "id": "c40a990c-f90c-447c-8ece-b8bda2b7c39d",
   "metadata": {},
   "outputs": [],
   "source": [
    "torch.manual_seed(21)\n",
    "scores = torch.nn.Parameter(torch.rand(b.num_nodes, 3, 2).to(device))"
   ]
  },
  {
   "cell_type": "code",
   "execution_count": 154,
   "id": "71f17cca-9da3-413f-aa75-d4e59e57e18f",
   "metadata": {},
   "outputs": [],
   "source": [
    "from samplers.simple_scheme import SIMPLESampler\n",
    "\n",
    "sampler = SIMPLESampler(1, device)"
   ]
  },
  {
   "cell_type": "code",
   "execution_count": null,
   "id": "db3678aa-45f3-452e-a4c0-c7a884929438",
   "metadata": {},
   "outputs": [],
   "source": []
  },
  {
   "cell_type": "code",
   "execution_count": 155,
   "id": "56057084-13e6-46b0-8cd2-47d648fb2a03",
   "metadata": {},
   "outputs": [],
   "source": [
    "mask, marginal = sampler(scores)\n",
    "VE, nnodes, n_centroids, E = mask.shape\n",
    "repeats = VE * E\n",
    "node_mask = mask.permute(0, 3, 2, 1).reshape(repeats, n_centroids, nnodes)[..., None]"
   ]
  },
  {
   "cell_type": "code",
   "execution_count": 156,
   "id": "80c21a5f-17d2-4ebe-9574-0f28a1efa645",
   "metadata": {},
   "outputs": [],
   "source": [
    "edge_mask = node_mask[:, :, b.edge_index[0], :] * node_mask[:, :, b.edge_index[1], :]"
   ]
  },
  {
   "cell_type": "code",
   "execution_count": 157,
   "id": "a96e30ad-f8ee-4b49-bbe6-36f9ec465085",
   "metadata": {},
   "outputs": [
    {
     "data": {
      "text/plain": [
       "torch.Size([2, 3, 98, 1])"
      ]
     },
     "execution_count": 157,
     "metadata": {},
     "output_type": "execute_result"
    }
   ],
   "source": [
    "node_mask.shape"
   ]
  },
  {
   "cell_type": "code",
   "execution_count": null,
   "id": "6d31cd0f-8bb6-4634-8de7-e5fe35dacd8f",
   "metadata": {},
   "outputs": [],
   "source": []
  },
  {
   "cell_type": "code",
   "execution_count": 129,
   "id": "7dedb84e-ac90-4bbb-9d80-03f8cd75e7f2",
   "metadata": {},
   "outputs": [],
   "source": [
    "from models.base2centroid import GNNMultiEdgeset"
   ]
  },
  {
   "cell_type": "code",
   "execution_count": 130,
   "id": "f15ad4a8-61d8-4a25-aafd-a46b625afe41",
   "metadata": {},
   "outputs": [],
   "source": [
    "model = GNNMultiEdgeset(\n",
    "    'gine',\n",
    "    bond_encoder,\n",
    "    128,\n",
    "                 3,\n",
    "                 3,\n",
    "                 32,\n",
    "                 'graph_norm',\n",
    "                 0.).to(device)"
   ]
  },
  {
   "cell_type": "code",
   "execution_count": 131,
   "id": "c9a566e6-c243-4e0b-a88b-d50bd8abaec7",
   "metadata": {},
   "outputs": [],
   "source": [
    "x = b.x.repeat(repeats, n_centroids, 1, 1)  # repeats, n_centroids, nnodes, features\n",
    "x = x.reshape(-1, x.shape[-1])\n",
    "num_graphs = b.num_graphs\n",
    "batch = b.batch.repeat(repeats * n_centroids) + \\\n",
    "        torch.arange(repeats * n_centroids, device=x.device).repeat_interleave(nnodes) * num_graphs"
   ]
  },
  {
   "cell_type": "code",
   "execution_count": 200,
   "id": "845ec2da-606b-4bd3-871d-09002940ed50",
   "metadata": {},
   "outputs": [],
   "source": [
    "embd = model(x, batch, b.edge_index, b.edge_attr, node_mask, edge_mask)"
   ]
  },
  {
   "cell_type": "code",
   "execution_count": 201,
   "id": "a301c10e-8f1b-4c24-99b3-0961755d36a5",
   "metadata": {},
   "outputs": [
    {
     "data": {
      "text/plain": [
       "torch.Size([2, 3, 4, 32])"
      ]
     },
     "execution_count": 201,
     "metadata": {},
     "output_type": "execute_result"
    }
   ],
   "source": [
    "embd.shape"
   ]
  },
  {
   "cell_type": "code",
   "execution_count": null,
   "id": "b84675d9-a0fd-4411-bce7-932d42d588a4",
   "metadata": {},
   "outputs": [],
   "source": []
  },
  {
   "cell_type": "markdown",
   "id": "3cd160c6-d8a2-4655-93b5-d9a164fcdfd7",
   "metadata": {},
   "source": [
    "# construct a hetero graph"
   ]
  },
  {
   "cell_type": "code",
   "execution_count": 134,
   "id": "cd06d059-5ed5-4a07-a2b9-5abf3a7226c6",
   "metadata": {},
   "outputs": [],
   "source": [
    "cumsum_nnodes = b._slice_dict['x'].to(device)"
   ]
  },
  {
   "cell_type": "code",
   "execution_count": 135,
   "id": "53b728ef-c1d0-4805-b6cf-cc22a1095d1f",
   "metadata": {},
   "outputs": [],
   "source": [
    "nnodes_list = cumsum_nnodes[1:] - cumsum_nnodes[:-1]"
   ]
  },
  {
   "cell_type": "code",
   "execution_count": 136,
   "id": "1b7c6258-9328-4297-b62c-6246a7c5f715",
   "metadata": {},
   "outputs": [
    {
     "data": {
      "text/plain": [
       "tensor([29, 26, 16, 27], device='cuda:0')"
      ]
     },
     "execution_count": 136,
     "metadata": {},
     "output_type": "execute_result"
    }
   ],
   "source": [
    "nnodes_list"
   ]
  },
  {
   "cell_type": "code",
   "execution_count": null,
   "id": "37edc734-adac-475d-a103-958e130c487f",
   "metadata": {},
   "outputs": [],
   "source": []
  },
  {
   "cell_type": "code",
   "execution_count": 172,
   "id": "ae67f05e-31cc-409a-b2be-85204cfe7690",
   "metadata": {},
   "outputs": [],
   "source": [
    "src = torch.arange(b.num_nodes * repeats, device=device).repeat_interleave(n_centroids)"
   ]
  },
  {
   "cell_type": "code",
   "execution_count": 173,
   "id": "b79aba8f-fb8f-4b2d-b3a3-d2f595314ddc",
   "metadata": {},
   "outputs": [],
   "source": [
    "dst = torch.arange(repeats * b.num_graphs, device=device).repeat_interleave(nnodes_list.repeat(repeats)) * n_centroids\n",
    "dst = dst[None] + torch.arange(n_centroids, device=device, dtype=torch.long)[:, None]\n",
    "dst = dst.t().reshape(-1)"
   ]
  },
  {
   "cell_type": "code",
   "execution_count": 174,
   "id": "6a87a97d-36ce-4a14-af91-014ba885828f",
   "metadata": {},
   "outputs": [
    {
     "data": {
      "text/plain": [
       "torch.Size([588])"
      ]
     },
     "execution_count": 174,
     "metadata": {},
     "output_type": "execute_result"
    }
   ],
   "source": [
    "dst.shape"
   ]
  },
  {
   "cell_type": "code",
   "execution_count": 175,
   "id": "2b694547-90fc-4cf9-aed9-a6242c9f3c53",
   "metadata": {},
   "outputs": [],
   "source": [
    "edge_weights = node_mask.squeeze(-1).permute(0, 2, 1).reshape(-1)"
   ]
  },
  {
   "cell_type": "code",
   "execution_count": null,
   "id": "eb153d25-a715-4f5d-a79d-d826a8a28b56",
   "metadata": {},
   "outputs": [],
   "source": []
  },
  {
   "cell_type": "code",
   "execution_count": 176,
   "id": "19eba58a-d68c-4ff4-bc4a-31e2be34afa3",
   "metadata": {},
   "outputs": [],
   "source": [
    "base2higher_edge_index = torch.vstack([src, dst])\n",
    "higher2base_edge_index = torch.vstack([dst, src])"
   ]
  },
  {
   "cell_type": "code",
   "execution_count": null,
   "id": "789b22ef-031c-42a1-bd9a-5531aa8627fd",
   "metadata": {},
   "outputs": [],
   "source": []
  },
  {
   "cell_type": "code",
   "execution_count": null,
   "id": "26db1b3f-a722-4588-8aca-2147addf98a1",
   "metadata": {},
   "outputs": [],
   "source": []
  },
  {
   "cell_type": "code",
   "execution_count": 177,
   "id": "18ad497e-184b-433e-bcad-e9413bcb309a",
   "metadata": {},
   "outputs": [],
   "source": [
    "idx = np.hstack([np.vstack(np.triu_indices(n_centroids, k=1)), \n",
    "                 np.vstack(np.diag_indices(n_centroids))])"
   ]
  },
  {
   "cell_type": "code",
   "execution_count": 178,
   "id": "0ccf106c-567e-4ad8-ac58-e876d7b8a12a",
   "metadata": {},
   "outputs": [],
   "source": [
    "from torch_scatter import scatter_sum"
   ]
  },
  {
   "cell_type": "code",
   "execution_count": 179,
   "id": "b3c901da-238d-4247-9377-a33b375170ae",
   "metadata": {},
   "outputs": [],
   "source": [
    "cumsum_nedges = b._slice_dict['edge_index'].to(device)\n",
    "nedges_list = cumsum_nedges[1:] - cumsum_nedges[:-1]\n",
    "num_edges = scatter_sum((node_mask[:, idx[0], :, 0][:, :, b.edge_index[0]] * \\\n",
    "                         node_mask[:, idx[1], :, 0][:, :, b.edge_index[1]]), \n",
    "                        torch.arange(b.num_graphs, device=device).repeat_interleave(nedges_list), dim=2)"
   ]
  },
  {
   "cell_type": "code",
   "execution_count": 183,
   "id": "db3113b2-b758-4af0-a310-b12558f592ac",
   "metadata": {},
   "outputs": [],
   "source": [
    "num_edges[:, -n_centroids:, :] = num_edges[:, -n_centroids:, :] / 2"
   ]
  },
  {
   "cell_type": "code",
   "execution_count": null,
   "id": "fe0132f7-8202-4799-8e65-6e47bd4f8035",
   "metadata": {},
   "outputs": [],
   "source": []
  },
  {
   "cell_type": "code",
   "execution_count": 185,
   "id": "77f704f1-9b37-424e-b7ec-9513830b446d",
   "metadata": {},
   "outputs": [],
   "source": [
    "from torch_geometric.utils import to_undirected"
   ]
  },
  {
   "cell_type": "code",
   "execution_count": 187,
   "id": "e0736db7-9e43-4667-acc0-ce5a201974a8",
   "metadata": {},
   "outputs": [],
   "source": [
    "idx, edge_weights = to_undirected(torch.from_numpy(idx).to(device), num_edges.permute(1, 0, 2))"
   ]
  },
  {
   "cell_type": "code",
   "execution_count": 189,
   "id": "8662e24c-ecc8-455d-884e-1fdf0ee1e4fe",
   "metadata": {},
   "outputs": [],
   "source": [
    "edge_weights = edge_weights.permute(1, 0, 2)"
   ]
  },
  {
   "cell_type": "code",
   "execution_count": 202,
   "id": "a7a86f9b-2138-4bbf-98ec-8bdb93c0ea29",
   "metadata": {},
   "outputs": [
    {
     "data": {
      "text/plain": [
       "torch.Size([2, 9, 4])"
      ]
     },
     "execution_count": 202,
     "metadata": {},
     "output_type": "execute_result"
    }
   ],
   "source": [
    "edge_weights.shape"
   ]
  },
  {
   "cell_type": "code",
   "execution_count": null,
   "id": "f706dc7f-958d-4751-ae9c-99ecc5f1be26",
   "metadata": {},
   "outputs": [],
   "source": []
  },
  {
   "cell_type": "code",
   "execution_count": 190,
   "id": "bdab8149-110b-4cdf-9abc-be5692546e54",
   "metadata": {},
   "outputs": [],
   "source": [
    "idx = idx.repeat(1, b.num_graphs * repeats) + \\\n",
    "        (torch.arange(b.num_graphs * repeats, device=device) * n_centroids).repeat_interleave(idx.shape[1])"
   ]
  },
  {
   "cell_type": "code",
   "execution_count": null,
   "id": "5526d1d9-ca2f-4d1d-8e09-a5f73565ecc2",
   "metadata": {},
   "outputs": [],
   "source": [
    "edge_weights = edge_weights.permute(0, 2, 1).reshape(-1)"
   ]
  },
  {
   "cell_type": "code",
   "execution_count": null,
   "id": "5d5605b4-d86f-42d2-8c0c-84a5ab9d6bab",
   "metadata": {},
   "outputs": [],
   "source": [
    "edge_weights"
   ]
  },
  {
   "cell_type": "code",
   "execution_count": null,
   "id": "69c10abb-19ea-4472-b5db-a64c20bcb335",
   "metadata": {},
   "outputs": [],
   "source": []
  }
 ],
 "metadata": {
  "kernelspec": {
   "display_name": "Python 3 (ipykernel)",
   "language": "python",
   "name": "python3"
  },
  "language_info": {
   "codemirror_mode": {
    "name": "ipython",
    "version": 3
   },
   "file_extension": ".py",
   "mimetype": "text/x-python",
   "name": "python",
   "nbconvert_exporter": "python",
   "pygments_lexer": "ipython3",
   "version": "3.10.13"
  }
 },
 "nbformat": 4,
 "nbformat_minor": 5
}

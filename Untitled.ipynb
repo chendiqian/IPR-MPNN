{
 "cells": [
  {
   "cell_type": "code",
   "execution_count": null,
   "id": "388362ab-7eaa-4a2a-9349-dd3499c52456",
   "metadata": {},
   "outputs": [],
   "source": [
    "%load_ext autoreload\n",
    "%autoreload 2"
   ]
  },
  {
   "cell_type": "code",
   "execution_count": null,
   "id": "84629f12-7e73-4ff5-b0b9-d88fb7d53c23",
   "metadata": {},
   "outputs": [],
   "source": []
  },
  {
   "cell_type": "code",
   "execution_count": null,
   "id": "81514067-f097-4471-91c9-bc788c06d545",
   "metadata": {},
   "outputs": [],
   "source": [
    "import torch\n",
    "import numpy as np"
   ]
  },
  {
   "cell_type": "code",
   "execution_count": null,
   "id": "feea5cea-e343-4b18-8595-b7d966800883",
   "metadata": {},
   "outputs": [],
   "source": []
  },
  {
   "cell_type": "code",
   "execution_count": null,
   "id": "9c077bcd-62b2-48b1-8e40-7261170630fa",
   "metadata": {},
   "outputs": [],
   "source": [
    "from torch_geometric.datasets import ZINC"
   ]
  },
  {
   "cell_type": "code",
   "execution_count": null,
   "id": "a7d9398e-3848-40c4-bd02-029d68e1da68",
   "metadata": {},
   "outputs": [],
   "source": [
    "train_set = ZINC('./datasets/ZINC', split='train', subset=True)"
   ]
  },
  {
   "cell_type": "code",
   "execution_count": null,
   "id": "ff4d7d46-f239-4f13-8270-c863d3e58aee",
   "metadata": {},
   "outputs": [],
   "source": []
  },
  {
   "cell_type": "code",
   "execution_count": null,
   "id": "62e3e543-a7e1-4777-80e1-bc51a3c4abb6",
   "metadata": {},
   "outputs": [],
   "source": [
    "from torch_geometric.data import Batch\n",
    "from ogb.graphproppred.mol_encoder import AtomEncoder"
   ]
  },
  {
   "cell_type": "code",
   "execution_count": null,
   "id": "b48b972c-8aec-428c-b893-53447aa39ad0",
   "metadata": {},
   "outputs": [],
   "source": [
    "b = Batch.from_data_list(train_set[:4])\n",
    "b.x = AtomEncoder(128)(b.x)"
   ]
  },
  {
   "cell_type": "code",
   "execution_count": null,
   "id": "a85c9eb3-02ae-4477-ad31-fdbad5ab650b",
   "metadata": {},
   "outputs": [],
   "source": [
    "b"
   ]
  },
  {
   "cell_type": "code",
   "execution_count": null,
   "id": "f5acfad3-14c8-47d1-8f32-25a319e4c2fd",
   "metadata": {},
   "outputs": [],
   "source": []
  },
  {
   "cell_type": "code",
   "execution_count": null,
   "id": "c40a990c-f90c-447c-8ece-b8bda2b7c39d",
   "metadata": {},
   "outputs": [],
   "source": [
    "torch.manual_seed(21)\n",
    "scores = torch.nn.Parameter(torch.rand(98, 3, 1))"
   ]
  },
  {
   "cell_type": "code",
   "execution_count": null,
   "id": "71f17cca-9da3-413f-aa75-d4e59e57e18f",
   "metadata": {},
   "outputs": [],
   "source": [
    "# from simple_scheme import SIMPLESampler\n",
    "\n",
    "# sampler = SIMPLESampler(1, 'cpu')"
   ]
  },
  {
   "cell_type": "code",
   "execution_count": null,
   "id": "09f611f7-30b9-4fde-8004-8b7c0f1b648f",
   "metadata": {},
   "outputs": [],
   "source": [
    "# from imle.noise import GumbelDistribution\n",
    "# from imle.target import TargetDistribution\n",
    "# from imle.wrapper import imle\n",
    "# from imle_scheme import IMLEScheme\n",
    "\n",
    "# imle_scheduler = IMLEScheme(1, 1, 1)\n",
    "\n",
    "# @imle(target_distribution=TargetDistribution(alpha=1.0, beta=10.),\n",
    "#       noise_distribution=GumbelDistribution(0., 0.3),\n",
    "#       nb_samples=1,\n",
    "#       input_noise_temperature=1.,\n",
    "#       target_noise_temperature=1.)\n",
    "# def imle_train_scheme(logits: torch.Tensor):\n",
    "#     return imle_scheduler.torch_sample_scheme(logits)\n",
    "\n",
    "# sampler = imle_train_scheme"
   ]
  },
  {
   "cell_type": "code",
   "execution_count": null,
   "id": "17924f24-5e04-462d-82e2-3a8dc846f057",
   "metadata": {},
   "outputs": [],
   "source": [
    "from gumbel_scheme import GumbelSampler\n",
    "\n",
    "sampler = GumbelSampler(1, 1, 1, 10.)"
   ]
  },
  {
   "cell_type": "code",
   "execution_count": null,
   "id": "db3678aa-45f3-452e-a4c0-c7a884929438",
   "metadata": {},
   "outputs": [],
   "source": []
  },
  {
   "cell_type": "code",
   "execution_count": null,
   "id": "56057084-13e6-46b0-8cd2-47d648fb2a03",
   "metadata": {},
   "outputs": [],
   "source": [
    "mask, marginal = sampler(scores)\n",
    "VE, nnodes, choices, E = mask.shape\n",
    "repeats = VE * E\n",
    "node_mask = mask.permute(0, 3, 2, 1).reshape(repeats, choices, nnodes)"
   ]
  },
  {
   "cell_type": "code",
   "execution_count": null,
   "id": "6d31cd0f-8bb6-4634-8de7-e5fe35dacd8f",
   "metadata": {},
   "outputs": [],
   "source": []
  },
  {
   "cell_type": "code",
   "execution_count": null,
   "id": "08929bfa-1eea-4a12-9b29-bf8635fc6ca3",
   "metadata": {},
   "outputs": [],
   "source": [
    "x = b.x.repeat(repeats, choices, 1, 1)"
   ]
  },
  {
   "cell_type": "code",
   "execution_count": null,
   "id": "98a0fc40-33d6-4dbf-84cc-b5adc7a0baae",
   "metadata": {},
   "outputs": [],
   "source": []
  },
  {
   "cell_type": "code",
   "execution_count": null,
   "id": "7dedb84e-ac90-4bbb-9d80-03f8cd75e7f2",
   "metadata": {},
   "outputs": [],
   "source": [
    "from my_convs import GINEConvMultiEdgeset, GINEMultiEdgeset"
   ]
  },
  {
   "cell_type": "code",
   "execution_count": null,
   "id": "96e55289-01ca-489e-92d3-a1387f5596f6",
   "metadata": {},
   "outputs": [],
   "source": [
    "batch = b.batch.repeat(VE * choices)\n",
    "bias = torch.arange(VE * choices).repeat_interleave(b.num_nodes) * b.num_graphs\n",
    "batch += bias"
   ]
  },
  {
   "cell_type": "code",
   "execution_count": null,
   "id": "b3ed7008-7975-4d26-9823-595afa1b91f2",
   "metadata": {},
   "outputs": [],
   "source": []
  },
  {
   "cell_type": "code",
   "execution_count": null,
   "id": "f15ad4a8-61d8-4a25-aafd-a46b625afe41",
   "metadata": {},
   "outputs": [],
   "source": [
    "model = GINEMultiEdgeset(128,\n",
    "                 3,\n",
    "                 3,\n",
    "                 128,\n",
    "                 128,\n",
    "                 'graph_norm',\n",
    "                 0.,\n",
    "                 True,\n",
    "                 edge_encoder=torch.nn.Embedding(4, 128))"
   ]
  },
  {
   "cell_type": "code",
   "execution_count": null,
   "id": "845ec2da-606b-4bd3-871d-09002940ed50",
   "metadata": {},
   "outputs": [],
   "source": [
    "embd = model(x, batch, b.edge_index, b.edge_attr, node_mask[..., None])"
   ]
  },
  {
   "cell_type": "code",
   "execution_count": null,
   "id": "2197b29d-45b0-4cf9-a871-1b50986bfe23",
   "metadata": {},
   "outputs": [],
   "source": [
    "embd.sum().backward()"
   ]
  },
  {
   "cell_type": "code",
   "execution_count": null,
   "id": "e133f004-7a7e-4c9a-a9d8-0403af2940c8",
   "metadata": {},
   "outputs": [],
   "source": [
    "scores.grad"
   ]
  },
  {
   "cell_type": "code",
   "execution_count": null,
   "id": "407bc609-155c-40cd-aa52-862deccd3c1b",
   "metadata": {},
   "outputs": [],
   "source": []
  }
 ],
 "metadata": {
  "kernelspec": {
   "display_name": "Python 3 (ipykernel)",
   "language": "python",
   "name": "python3"
  },
  "language_info": {
   "codemirror_mode": {
    "name": "ipython",
    "version": 3
   },
   "file_extension": ".py",
   "mimetype": "text/x-python",
   "name": "python",
   "nbconvert_exporter": "python",
   "pygments_lexer": "ipython3",
   "version": "3.10.13"
  }
 },
 "nbformat": 4,
 "nbformat_minor": 5
}
